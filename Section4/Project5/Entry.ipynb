{
 "cells": [
  {
   "cell_type": "code",
   "execution_count": null,
   "metadata": {},
   "outputs": [],
   "source": [
    "#Tokanization and Count Vectorizer\n",
    "#Natural Language Processing\n",
    "\n",
    "#Confusion Matrix\n"
   ]
  },
  {
   "cell_type": "markdown",
   "metadata": {},
   "source": [
    "| |     +       |     -       |\n",
    "| :---|:---: |---:|\n",
    "| +| TRUE+      | FALSE+ |      \n",
    "| -| FALSE-     | TRUE-       |\n",
    "\n",
    "\n"
   ]
  },
  {
   "cell_type": "markdown",
   "metadata": {},
   "source": [
    "|ID|NAME|\n",
    "|---|-----------:|\n",
    "|1|Hemant|"
   ]
  },
  {
   "cell_type": "markdown",
   "metadata": {},
   "source": [
    "<dl>\n",
    "  <dt>First Term</dt>\n",
    "  <dd>This is the definition of the first term.</dd>\n",
    "  <dt>Second Term</dt>\n",
    "  <dd>This is one definition of the second term. </dd>\n",
    "  <dd>This is another definition of the second term.</dd>\n",
    "</dl>\n",
    "\n",
    "~~The world is flat.~~ We now know that the world is round."
   ]
  },
  {
   "cell_type": "markdown",
   "metadata": {},
   "source": [
    "- [x] Write the press release\n",
    "- [ ] Update the website\n",
    "- [ ] Contact the media"
   ]
  }
 ],
 "metadata": {
  "language_info": {
   "name": "python"
  }
 },
 "nbformat": 4,
 "nbformat_minor": 2
}
