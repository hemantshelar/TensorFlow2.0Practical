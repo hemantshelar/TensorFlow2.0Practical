{
 "cells": [
  {
   "cell_type": "code",
   "execution_count": 1,
   "id": "c3427006-286e-4f90-8ad5-a5d8e6c723ac",
   "metadata": {},
   "outputs": [],
   "source": [
    "import numpy as np"
   ]
  },
  {
   "cell_type": "code",
   "execution_count": 2,
   "id": "889cb9d4-6b07-48eb-80a1-c9192424b2f3",
   "metadata": {},
   "outputs": [],
   "source": [
    "#ndim, shape, size, dtype\n"
   ]
  },
  {
   "cell_type": "code",
   "execution_count": 4,
   "id": "4afdd37b-3cfa-4ded-a1c8-d86a5c9ed89f",
   "metadata": {},
   "outputs": [],
   "source": [
    "#int list\n",
    "sales = [0,5,155,518,0,1827,616,317,325]\n",
    "\n",
    "sales_np_array = np.array(sales)"
   ]
  },
  {
   "cell_type": "code",
   "execution_count": 7,
   "id": "f43aebd1-fb17-4c56-bba3-bb8c093e5e71",
   "metadata": {},
   "outputs": [
    {
     "data": {
      "text/plain": [
       "array([   0,    5,  155,  518,    0, 1827,  616,  317,  325])"
      ]
     },
     "execution_count": 7,
     "metadata": {},
     "output_type": "execute_result"
    }
   ],
   "source": [
    "sales_np_array"
   ]
  },
  {
   "cell_type": "code",
   "execution_count": 8,
   "id": "c860b382-d155-44e3-ac5c-b6663f70bd05",
   "metadata": {},
   "outputs": [
    {
     "data": {
      "text/plain": [
       "[0, 5, 155, 518, 0, 1827, 616, 317, 325]"
      ]
     },
     "execution_count": 8,
     "metadata": {},
     "output_type": "execute_result"
    }
   ],
   "source": [
    "sales"
   ]
  },
  {
   "cell_type": "code",
   "execution_count": 11,
   "id": "a3a2ae88-72e9-4f27-945f-b6bf0a78d07c",
   "metadata": {},
   "outputs": [
    {
     "name": "stdout",
     "output_type": "stream",
     "text": [
      "ndim: 1\n",
      "shape: (9,)\n",
      "size: 9\n",
      "dtype: int64\n"
     ]
    }
   ],
   "source": [
    "print(f\"ndim: {sales_np_array.ndim}\");\n",
    "print(f\"shape: {sales_np_array.shape}\");\n",
    "print(f\"size: {sales_np_array.size}\");\n",
    "print(f\"dtype: {sales_np_array.dtype}\");"
   ]
  },
  {
   "cell_type": "code",
   "execution_count": 12,
   "id": "af174bd9-790e-427f-90c1-a19c08ea1a74",
   "metadata": {},
   "outputs": [],
   "source": [
    "#two dimentional list\n",
    "s = [[1,2,3,4,5],[6,7,8,9,10]]\n",
    "snp = np.array(s)"
   ]
  },
  {
   "cell_type": "code",
   "execution_count": 13,
   "id": "26fc2a4a-5ad5-4083-be2d-0b8adfb193fc",
   "metadata": {},
   "outputs": [
    {
     "data": {
      "text/plain": [
       "(2, 5)"
      ]
     },
     "execution_count": 13,
     "metadata": {},
     "output_type": "execute_result"
    }
   ],
   "source": [
    "snp.shape"
   ]
  },
  {
   "cell_type": "code",
   "execution_count": 16,
   "id": "031a1f65-34fe-4407-ab50-e002f1dceae3",
   "metadata": {},
   "outputs": [
    {
     "data": {
      "text/plain": [
       "array([[ 1,  2,  3,  4,  5],\n",
       "       [ 6,  7,  8,  9, 10]])"
      ]
     },
     "execution_count": 16,
     "metadata": {},
     "output_type": "execute_result"
    }
   ],
   "source": [
    "snp"
   ]
  },
  {
   "cell_type": "code",
   "execution_count": 19,
   "id": "152e62a3-5f39-40a9-9edd-1380eb0d548d",
   "metadata": {},
   "outputs": [
    {
     "data": {
      "text/plain": [
       "10"
      ]
     },
     "execution_count": 19,
     "metadata": {},
     "output_type": "execute_result"
    }
   ],
   "source": [
    "snp.size"
   ]
  },
  {
   "cell_type": "code",
   "execution_count": 24,
   "id": "989bf10a-fdc2-4483-981e-2807022953e4",
   "metadata": {},
   "outputs": [],
   "source": [
    "result = snp[0]*snp[1]"
   ]
  },
  {
   "cell_type": "code",
   "execution_count": 25,
   "id": "4d35d6af-1bf8-4385-91e0-e2a9ef23a47d",
   "metadata": {},
   "outputs": [
    {
     "data": {
      "text/plain": [
       "array([ 6, 14, 24, 36, 50])"
      ]
     },
     "execution_count": 25,
     "metadata": {},
     "output_type": "execute_result"
    }
   ],
   "source": [
    "result"
   ]
  },
  {
   "cell_type": "code",
   "execution_count": 27,
   "id": "28d1afed-4efd-4510-9794-681e0c1d3b2f",
   "metadata": {},
   "outputs": [
    {
     "data": {
      "text/plain": [
       "array([0, 1, 2, 3, 4])"
      ]
     },
     "execution_count": 27,
     "metadata": {},
     "output_type": "execute_result"
    }
   ],
   "source": [
    "#Create array\n",
    "array = np.array(range(5))\n",
    "array"
   ]
  },
  {
   "cell_type": "code",
   "execution_count": 33,
   "id": "32fa0d16-15f0-4832-a478-6be5dee9b892",
   "metadata": {},
   "outputs": [
    {
     "name": "stdout",
     "output_type": "stream",
     "text": [
      "0\n",
      "1\n",
      "2\n",
      "3\n",
      "4\n"
     ]
    }
   ],
   "source": [
    "r = range(5)\n",
    "for i in r:\n",
    "    print(i)"
   ]
  },
  {
   "cell_type": "code",
   "execution_count": 48,
   "id": "33d8093b-16a1-4eea-8c31-446311484015",
   "metadata": {},
   "outputs": [],
   "source": [
    "array2d = np.array([range(5),range(5),range(5)])"
   ]
  },
  {
   "cell_type": "code",
   "execution_count": 51,
   "id": "f02e69c2-481d-4f84-ad26-3ee659c4fd83",
   "metadata": {},
   "outputs": [
    {
     "data": {
      "text/plain": [
       "(3, 5)"
      ]
     },
     "execution_count": 51,
     "metadata": {},
     "output_type": "execute_result"
    }
   ],
   "source": [
    "array2d.shape"
   ]
  }
 ],
 "metadata": {
  "kernelspec": {
   "display_name": "Python 3 (ipykernel)",
   "language": "python",
   "name": "python3"
  },
  "language_info": {
   "codemirror_mode": {
    "name": "ipython",
    "version": 3
   },
   "file_extension": ".py",
   "mimetype": "text/x-python",
   "name": "python",
   "nbconvert_exporter": "python",
   "pygments_lexer": "ipython3",
   "version": "3.11.0rc1"
  }
 },
 "nbformat": 4,
 "nbformat_minor": 5
}
