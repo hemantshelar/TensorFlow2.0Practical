{
 "cells": [
  {
   "cell_type": "code",
   "execution_count": 2,
   "id": "1a0ed6c9",
   "metadata": {},
   "outputs": [],
   "source": [
    "import numpy as np\n",
    "import pandas as pd"
   ]
  }
 ],
 "metadata": {
  "kernelspec": {
   "display_name": "",
   "name": ""
  },
  "language_info": {
   "name": "python"
  }
 },
 "nbformat": 4,
 "nbformat_minor": 5
}
